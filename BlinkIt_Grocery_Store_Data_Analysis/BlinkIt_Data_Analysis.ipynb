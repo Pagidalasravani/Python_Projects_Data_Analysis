{
 "cells": [
  {
   "cell_type": "markdown",
   "id": "8384fc7c-0021-4900-be89-4a0b8efc0b30",
   "metadata": {},
   "source": [
    "## Business Problem\n",
    "\n",
    "Analyze sales trends to identify high-performing product categories and determine which items should be promoted or restocked more frequently across different store types and locations.\n",
    "\n",
    " ### Questions to achieve this \n",
    "    1. what are the Top 5 selling item categories?\n",
    "    2. Which outlet types sell the most?\n",
    "    "
   ]
  },
  {
   "cell_type": "code",
   "execution_count": 1,
   "id": "0d9e58ab-57eb-401d-8b02-aa36765546d6",
   "metadata": {},
   "outputs": [],
   "source": [
    "import pandas as pd\n",
    "import matplotlib.pyplot as plt\n",
    "import seaborn as sns\n",
    "import warnings\n",
    "warnings.filterwarnings('ignore')"
   ]
  },
  {
   "cell_type": "markdown",
   "id": "d069d478-9bf0-46b0-9a3d-d15e076293e4",
   "metadata": {},
   "source": [
    "## 1. Data Understanding + Setup"
   ]
  },
  {
   "cell_type": "code",
   "execution_count": 2,
   "id": "d1a2a580-aa90-4e6f-bf7d-7f8231621ed1",
   "metadata": {},
   "outputs": [
    {
     "data": {
      "text/html": [
       "<div>\n",
       "<style scoped>\n",
       "    .dataframe tbody tr th:only-of-type {\n",
       "        vertical-align: middle;\n",
       "    }\n",
       "\n",
       "    .dataframe tbody tr th {\n",
       "        vertical-align: top;\n",
       "    }\n",
       "\n",
       "    .dataframe thead th {\n",
       "        text-align: right;\n",
       "    }\n",
       "</style>\n",
       "<table border=\"1\" class=\"dataframe\">\n",
       "  <thead>\n",
       "    <tr style=\"text-align: right;\">\n",
       "      <th></th>\n",
       "      <th>Item Fat Content</th>\n",
       "      <th>Item Identifier</th>\n",
       "      <th>Item Type</th>\n",
       "      <th>Outlet Establishment Year</th>\n",
       "      <th>Outlet Identifier</th>\n",
       "      <th>Outlet Location Type</th>\n",
       "      <th>Outlet Size</th>\n",
       "      <th>Outlet Type</th>\n",
       "      <th>Item Visibility</th>\n",
       "      <th>Item Weight</th>\n",
       "      <th>Sales</th>\n",
       "      <th>Rating</th>\n",
       "    </tr>\n",
       "  </thead>\n",
       "  <tbody>\n",
       "    <tr>\n",
       "      <th>0</th>\n",
       "      <td>Regular</td>\n",
       "      <td>FDX32</td>\n",
       "      <td>Fruits and Vegetables</td>\n",
       "      <td>2012</td>\n",
       "      <td>OUT049</td>\n",
       "      <td>Tier 1</td>\n",
       "      <td>Medium</td>\n",
       "      <td>Supermarket Type1</td>\n",
       "      <td>0.100014</td>\n",
       "      <td>15.10</td>\n",
       "      <td>145.4786</td>\n",
       "      <td>5.0</td>\n",
       "    </tr>\n",
       "    <tr>\n",
       "      <th>1</th>\n",
       "      <td>Low Fat</td>\n",
       "      <td>NCB42</td>\n",
       "      <td>Health and Hygiene</td>\n",
       "      <td>2022</td>\n",
       "      <td>OUT018</td>\n",
       "      <td>Tier 3</td>\n",
       "      <td>Medium</td>\n",
       "      <td>Supermarket Type2</td>\n",
       "      <td>0.008596</td>\n",
       "      <td>11.80</td>\n",
       "      <td>115.3492</td>\n",
       "      <td>5.0</td>\n",
       "    </tr>\n",
       "    <tr>\n",
       "      <th>2</th>\n",
       "      <td>Regular</td>\n",
       "      <td>FDR28</td>\n",
       "      <td>Frozen Foods</td>\n",
       "      <td>2016</td>\n",
       "      <td>OUT046</td>\n",
       "      <td>Tier 1</td>\n",
       "      <td>Small</td>\n",
       "      <td>Supermarket Type1</td>\n",
       "      <td>0.025896</td>\n",
       "      <td>13.85</td>\n",
       "      <td>165.0210</td>\n",
       "      <td>5.0</td>\n",
       "    </tr>\n",
       "    <tr>\n",
       "      <th>3</th>\n",
       "      <td>Regular</td>\n",
       "      <td>FDL50</td>\n",
       "      <td>Canned</td>\n",
       "      <td>2014</td>\n",
       "      <td>OUT013</td>\n",
       "      <td>Tier 3</td>\n",
       "      <td>High</td>\n",
       "      <td>Supermarket Type1</td>\n",
       "      <td>0.042278</td>\n",
       "      <td>12.15</td>\n",
       "      <td>126.5046</td>\n",
       "      <td>5.0</td>\n",
       "    </tr>\n",
       "    <tr>\n",
       "      <th>4</th>\n",
       "      <td>Low Fat</td>\n",
       "      <td>DRI25</td>\n",
       "      <td>Soft Drinks</td>\n",
       "      <td>2015</td>\n",
       "      <td>OUT045</td>\n",
       "      <td>Tier 2</td>\n",
       "      <td>Small</td>\n",
       "      <td>Supermarket Type1</td>\n",
       "      <td>0.033970</td>\n",
       "      <td>19.60</td>\n",
       "      <td>55.1614</td>\n",
       "      <td>5.0</td>\n",
       "    </tr>\n",
       "    <tr>\n",
       "      <th>...</th>\n",
       "      <td>...</td>\n",
       "      <td>...</td>\n",
       "      <td>...</td>\n",
       "      <td>...</td>\n",
       "      <td>...</td>\n",
       "      <td>...</td>\n",
       "      <td>...</td>\n",
       "      <td>...</td>\n",
       "      <td>...</td>\n",
       "      <td>...</td>\n",
       "      <td>...</td>\n",
       "      <td>...</td>\n",
       "    </tr>\n",
       "    <tr>\n",
       "      <th>8518</th>\n",
       "      <td>low fat</td>\n",
       "      <td>NCT53</td>\n",
       "      <td>Health and Hygiene</td>\n",
       "      <td>2018</td>\n",
       "      <td>OUT027</td>\n",
       "      <td>Tier 3</td>\n",
       "      <td>Medium</td>\n",
       "      <td>Supermarket Type3</td>\n",
       "      <td>0.000000</td>\n",
       "      <td>NaN</td>\n",
       "      <td>164.5526</td>\n",
       "      <td>4.0</td>\n",
       "    </tr>\n",
       "    <tr>\n",
       "      <th>8519</th>\n",
       "      <td>low fat</td>\n",
       "      <td>FDN09</td>\n",
       "      <td>Snack Foods</td>\n",
       "      <td>2018</td>\n",
       "      <td>OUT027</td>\n",
       "      <td>Tier 3</td>\n",
       "      <td>Medium</td>\n",
       "      <td>Supermarket Type3</td>\n",
       "      <td>0.034706</td>\n",
       "      <td>NaN</td>\n",
       "      <td>241.6828</td>\n",
       "      <td>4.0</td>\n",
       "    </tr>\n",
       "    <tr>\n",
       "      <th>8520</th>\n",
       "      <td>low fat</td>\n",
       "      <td>DRE13</td>\n",
       "      <td>Soft Drinks</td>\n",
       "      <td>2018</td>\n",
       "      <td>OUT027</td>\n",
       "      <td>Tier 3</td>\n",
       "      <td>Medium</td>\n",
       "      <td>Supermarket Type3</td>\n",
       "      <td>0.027571</td>\n",
       "      <td>NaN</td>\n",
       "      <td>86.6198</td>\n",
       "      <td>4.0</td>\n",
       "    </tr>\n",
       "    <tr>\n",
       "      <th>8521</th>\n",
       "      <td>reg</td>\n",
       "      <td>FDT50</td>\n",
       "      <td>Dairy</td>\n",
       "      <td>2018</td>\n",
       "      <td>OUT027</td>\n",
       "      <td>Tier 3</td>\n",
       "      <td>Medium</td>\n",
       "      <td>Supermarket Type3</td>\n",
       "      <td>0.107715</td>\n",
       "      <td>NaN</td>\n",
       "      <td>97.8752</td>\n",
       "      <td>4.0</td>\n",
       "    </tr>\n",
       "    <tr>\n",
       "      <th>8522</th>\n",
       "      <td>reg</td>\n",
       "      <td>FDM58</td>\n",
       "      <td>Snack Foods</td>\n",
       "      <td>2018</td>\n",
       "      <td>OUT027</td>\n",
       "      <td>Tier 3</td>\n",
       "      <td>Medium</td>\n",
       "      <td>Supermarket Type3</td>\n",
       "      <td>0.000000</td>\n",
       "      <td>NaN</td>\n",
       "      <td>112.2544</td>\n",
       "      <td>4.0</td>\n",
       "    </tr>\n",
       "  </tbody>\n",
       "</table>\n",
       "<p>8523 rows × 12 columns</p>\n",
       "</div>"
      ],
      "text/plain": [
       "     Item Fat Content Item Identifier              Item Type  \\\n",
       "0             Regular           FDX32  Fruits and Vegetables   \n",
       "1             Low Fat           NCB42     Health and Hygiene   \n",
       "2             Regular           FDR28           Frozen Foods   \n",
       "3             Regular           FDL50                 Canned   \n",
       "4             Low Fat           DRI25            Soft Drinks   \n",
       "...               ...             ...                    ...   \n",
       "8518          low fat           NCT53     Health and Hygiene   \n",
       "8519          low fat           FDN09            Snack Foods   \n",
       "8520          low fat           DRE13            Soft Drinks   \n",
       "8521              reg           FDT50                  Dairy   \n",
       "8522              reg           FDM58            Snack Foods   \n",
       "\n",
       "      Outlet Establishment Year Outlet Identifier Outlet Location Type  \\\n",
       "0                          2012            OUT049               Tier 1   \n",
       "1                          2022            OUT018               Tier 3   \n",
       "2                          2016            OUT046               Tier 1   \n",
       "3                          2014            OUT013               Tier 3   \n",
       "4                          2015            OUT045               Tier 2   \n",
       "...                         ...               ...                  ...   \n",
       "8518                       2018            OUT027               Tier 3   \n",
       "8519                       2018            OUT027               Tier 3   \n",
       "8520                       2018            OUT027               Tier 3   \n",
       "8521                       2018            OUT027               Tier 3   \n",
       "8522                       2018            OUT027               Tier 3   \n",
       "\n",
       "     Outlet Size        Outlet Type  Item Visibility  Item Weight     Sales  \\\n",
       "0         Medium  Supermarket Type1         0.100014        15.10  145.4786   \n",
       "1         Medium  Supermarket Type2         0.008596        11.80  115.3492   \n",
       "2          Small  Supermarket Type1         0.025896        13.85  165.0210   \n",
       "3           High  Supermarket Type1         0.042278        12.15  126.5046   \n",
       "4          Small  Supermarket Type1         0.033970        19.60   55.1614   \n",
       "...          ...                ...              ...          ...       ...   \n",
       "8518      Medium  Supermarket Type3         0.000000          NaN  164.5526   \n",
       "8519      Medium  Supermarket Type3         0.034706          NaN  241.6828   \n",
       "8520      Medium  Supermarket Type3         0.027571          NaN   86.6198   \n",
       "8521      Medium  Supermarket Type3         0.107715          NaN   97.8752   \n",
       "8522      Medium  Supermarket Type3         0.000000          NaN  112.2544   \n",
       "\n",
       "      Rating  \n",
       "0        5.0  \n",
       "1        5.0  \n",
       "2        5.0  \n",
       "3        5.0  \n",
       "4        5.0  \n",
       "...      ...  \n",
       "8518     4.0  \n",
       "8519     4.0  \n",
       "8520     4.0  \n",
       "8521     4.0  \n",
       "8522     4.0  \n",
       "\n",
       "[8523 rows x 12 columns]"
      ]
     },
     "execution_count": 2,
     "metadata": {},
     "output_type": "execute_result"
    }
   ],
   "source": [
    "df= pd.read_excel('BlinkIT Grocery Data.xlsx')\n",
    "df"
   ]
  },
  {
   "cell_type": "code",
   "execution_count": 3,
   "id": "176cb155-2412-419a-a52a-2912440a0247",
   "metadata": {},
   "outputs": [
    {
     "name": "stdout",
     "output_type": "stream",
     "text": [
      "<class 'pandas.core.frame.DataFrame'>\n",
      "RangeIndex: 8523 entries, 0 to 8522\n",
      "Data columns (total 12 columns):\n",
      " #   Column                     Non-Null Count  Dtype  \n",
      "---  ------                     --------------  -----  \n",
      " 0   Item Fat Content           8523 non-null   object \n",
      " 1   Item Identifier            8523 non-null   object \n",
      " 2   Item Type                  8523 non-null   object \n",
      " 3   Outlet Establishment Year  8523 non-null   int64  \n",
      " 4   Outlet Identifier          8523 non-null   object \n",
      " 5   Outlet Location Type       8523 non-null   object \n",
      " 6   Outlet Size                8523 non-null   object \n",
      " 7   Outlet Type                8523 non-null   object \n",
      " 8   Item Visibility            8523 non-null   float64\n",
      " 9   Item Weight                7060 non-null   float64\n",
      " 10  Sales                      8523 non-null   float64\n",
      " 11  Rating                     8523 non-null   float64\n",
      "dtypes: float64(4), int64(1), object(7)\n",
      "memory usage: 799.2+ KB\n"
     ]
    }
   ],
   "source": [
    "df.info()"
   ]
  },
  {
   "cell_type": "code",
   "execution_count": 4,
   "id": "791f42d4-9d3d-49bd-bc5c-40b53a8c0368",
   "metadata": {},
   "outputs": [
    {
     "data": {
      "text/plain": [
       "(8523, 12)"
      ]
     },
     "execution_count": 4,
     "metadata": {},
     "output_type": "execute_result"
    }
   ],
   "source": [
    "df.shape"
   ]
  },
  {
   "cell_type": "code",
   "execution_count": 5,
   "id": "ac978d37-44ad-41c3-858e-cd0b75f3880f",
   "metadata": {},
   "outputs": [
    {
     "data": {
      "text/html": [
       "<div>\n",
       "<style scoped>\n",
       "    .dataframe tbody tr th:only-of-type {\n",
       "        vertical-align: middle;\n",
       "    }\n",
       "\n",
       "    .dataframe tbody tr th {\n",
       "        vertical-align: top;\n",
       "    }\n",
       "\n",
       "    .dataframe thead th {\n",
       "        text-align: right;\n",
       "    }\n",
       "</style>\n",
       "<table border=\"1\" class=\"dataframe\">\n",
       "  <thead>\n",
       "    <tr style=\"text-align: right;\">\n",
       "      <th></th>\n",
       "      <th>Outlet Establishment Year</th>\n",
       "      <th>Item Visibility</th>\n",
       "      <th>Item Weight</th>\n",
       "      <th>Sales</th>\n",
       "      <th>Rating</th>\n",
       "    </tr>\n",
       "  </thead>\n",
       "  <tbody>\n",
       "    <tr>\n",
       "      <th>count</th>\n",
       "      <td>8523.000000</td>\n",
       "      <td>8523.000000</td>\n",
       "      <td>7060.000000</td>\n",
       "      <td>8523.000000</td>\n",
       "      <td>8523.000000</td>\n",
       "    </tr>\n",
       "    <tr>\n",
       "      <th>mean</th>\n",
       "      <td>2016.450546</td>\n",
       "      <td>0.066132</td>\n",
       "      <td>12.857645</td>\n",
       "      <td>140.992783</td>\n",
       "      <td>3.965857</td>\n",
       "    </tr>\n",
       "    <tr>\n",
       "      <th>std</th>\n",
       "      <td>3.189396</td>\n",
       "      <td>0.051598</td>\n",
       "      <td>4.643456</td>\n",
       "      <td>62.275067</td>\n",
       "      <td>0.605651</td>\n",
       "    </tr>\n",
       "    <tr>\n",
       "      <th>min</th>\n",
       "      <td>2011.000000</td>\n",
       "      <td>0.000000</td>\n",
       "      <td>4.555000</td>\n",
       "      <td>31.290000</td>\n",
       "      <td>1.000000</td>\n",
       "    </tr>\n",
       "    <tr>\n",
       "      <th>25%</th>\n",
       "      <td>2014.000000</td>\n",
       "      <td>0.026989</td>\n",
       "      <td>8.773750</td>\n",
       "      <td>93.826500</td>\n",
       "      <td>4.000000</td>\n",
       "    </tr>\n",
       "    <tr>\n",
       "      <th>50%</th>\n",
       "      <td>2016.000000</td>\n",
       "      <td>0.053931</td>\n",
       "      <td>12.600000</td>\n",
       "      <td>143.012800</td>\n",
       "      <td>4.000000</td>\n",
       "    </tr>\n",
       "    <tr>\n",
       "      <th>75%</th>\n",
       "      <td>2018.000000</td>\n",
       "      <td>0.094585</td>\n",
       "      <td>16.850000</td>\n",
       "      <td>185.643700</td>\n",
       "      <td>4.200000</td>\n",
       "    </tr>\n",
       "    <tr>\n",
       "      <th>max</th>\n",
       "      <td>2022.000000</td>\n",
       "      <td>0.328391</td>\n",
       "      <td>21.350000</td>\n",
       "      <td>266.888400</td>\n",
       "      <td>5.000000</td>\n",
       "    </tr>\n",
       "  </tbody>\n",
       "</table>\n",
       "</div>"
      ],
      "text/plain": [
       "       Outlet Establishment Year  Item Visibility  Item Weight        Sales  \\\n",
       "count                8523.000000      8523.000000  7060.000000  8523.000000   \n",
       "mean                 2016.450546         0.066132    12.857645   140.992783   \n",
       "std                     3.189396         0.051598     4.643456    62.275067   \n",
       "min                  2011.000000         0.000000     4.555000    31.290000   \n",
       "25%                  2014.000000         0.026989     8.773750    93.826500   \n",
       "50%                  2016.000000         0.053931    12.600000   143.012800   \n",
       "75%                  2018.000000         0.094585    16.850000   185.643700   \n",
       "max                  2022.000000         0.328391    21.350000   266.888400   \n",
       "\n",
       "            Rating  \n",
       "count  8523.000000  \n",
       "mean      3.965857  \n",
       "std       0.605651  \n",
       "min       1.000000  \n",
       "25%       4.000000  \n",
       "50%       4.000000  \n",
       "75%       4.200000  \n",
       "max       5.000000  "
      ]
     },
     "execution_count": 5,
     "metadata": {},
     "output_type": "execute_result"
    }
   ],
   "source": [
    "df.describe()"
   ]
  },
  {
   "cell_type": "markdown",
   "id": "8c7fff1a-15c5-4a36-a48c-f3a508aa4987",
   "metadata": {},
   "source": [
    "## 2. Data Cleaning + Preparation\n",
    "### Handling missing values & Standardize categories & Checking for duplicates"
   ]
  },
  {
   "cell_type": "code",
   "execution_count": 6,
   "id": "394acbe1-45e7-4b54-bb09-f13ba562fe1d",
   "metadata": {},
   "outputs": [
    {
     "data": {
      "text/plain": [
       "Item Fat Content                0\n",
       "Item Identifier                 0\n",
       "Item Type                       0\n",
       "Outlet Establishment Year       0\n",
       "Outlet Identifier               0\n",
       "Outlet Location Type            0\n",
       "Outlet Size                     0\n",
       "Outlet Type                     0\n",
       "Item Visibility                 0\n",
       "Item Weight                  1463\n",
       "Sales                           0\n",
       "Rating                          0\n",
       "dtype: int64"
      ]
     },
     "execution_count": 6,
     "metadata": {},
     "output_type": "execute_result"
    }
   ],
   "source": [
    "df.isnull().sum()"
   ]
  },
  {
   "cell_type": "code",
   "execution_count": 7,
   "id": "03a1eac7-9c6b-4cfc-a283-4688eace9778",
   "metadata": {},
   "outputs": [
    {
     "data": {
      "text/plain": [
       "Item Fat Content\n",
       "Low Fat    5089\n",
       "Regular    2889\n",
       "LF          316\n",
       "reg         117\n",
       "low fat     112\n",
       "Name: count, dtype: int64"
      ]
     },
     "execution_count": 7,
     "metadata": {},
     "output_type": "execute_result"
    }
   ],
   "source": [
    "df['Item Fat Content'].value_counts()"
   ]
  },
  {
   "cell_type": "code",
   "execution_count": 8,
   "id": "61bf9b27-2c7b-49b3-b4ba-31d89c1ea521",
   "metadata": {},
   "outputs": [],
   "source": [
    "df['Item Fat Content'] = df['Item Fat Content'].replace({'low fat':'Low Fat','LF':'Low Fat','reg':'Regular'})"
   ]
  },
  {
   "cell_type": "code",
   "execution_count": 9,
   "id": "df6a0244-bd50-426b-a077-d1b54fb55b7e",
   "metadata": {},
   "outputs": [
    {
     "data": {
      "text/plain": [
       "Item Fat Content\n",
       "Low Fat    5517\n",
       "Regular    3006\n",
       "Name: count, dtype: int64"
      ]
     },
     "execution_count": 9,
     "metadata": {},
     "output_type": "execute_result"
    }
   ],
   "source": [
    "df['Item Fat Content'].value_counts()"
   ]
  },
  {
   "cell_type": "code",
   "execution_count": 10,
   "id": "2e08bb59-8492-45fa-9f97-a92bc3ed5209",
   "metadata": {},
   "outputs": [
    {
     "data": {
      "text/plain": [
       "1463"
      ]
     },
     "execution_count": 10,
     "metadata": {},
     "output_type": "execute_result"
    }
   ],
   "source": [
    "df['Item Weight'].isnull().sum()"
   ]
  },
  {
   "cell_type": "code",
   "execution_count": 11,
   "id": "4e44df3c-de05-4ec9-a8e2-32ad1379d57b",
   "metadata": {},
   "outputs": [
    {
     "data": {
      "text/plain": [
       "0"
      ]
     },
     "execution_count": 11,
     "metadata": {},
     "output_type": "execute_result"
    }
   ],
   "source": [
    "mean_item_weight=df['Item Weight'].mean()\n",
    "df['Item Weight'].fillna(mean_item_weight,inplace=True)\n",
    "df['Item Weight'].isnull().sum()"
   ]
  },
  {
   "cell_type": "code",
   "execution_count": 12,
   "id": "4373ddc2-40ab-49a6-a111-1f6583cb5bbd",
   "metadata": {},
   "outputs": [],
   "source": [
    "df['Sales']=df['Sales'].round(2)"
   ]
  },
  {
   "cell_type": "code",
   "execution_count": 13,
   "id": "26e87258-6f2f-4a14-a088-4ce5c71f21dd",
   "metadata": {},
   "outputs": [
    {
     "data": {
      "text/plain": [
       "0"
      ]
     },
     "execution_count": 13,
     "metadata": {},
     "output_type": "execute_result"
    }
   ],
   "source": [
    "df.duplicated().sum() "
   ]
  },
  {
   "cell_type": "markdown",
   "id": "b2d2055a-f5fa-4180-a4b6-ce43a3ed9a49",
   "metadata": {},
   "source": [
    "## 3. Exploratory Data Analysis (EDA)"
   ]
  },
  {
   "cell_type": "code",
   "execution_count": 14,
   "id": "0213d787-72b4-4c2a-b0bc-69ffdf0df294",
   "metadata": {},
   "outputs": [
    {
     "data": {
      "text/html": [
       "<div>\n",
       "<style scoped>\n",
       "    .dataframe tbody tr th:only-of-type {\n",
       "        vertical-align: middle;\n",
       "    }\n",
       "\n",
       "    .dataframe tbody tr th {\n",
       "        vertical-align: top;\n",
       "    }\n",
       "\n",
       "    .dataframe thead th {\n",
       "        text-align: right;\n",
       "    }\n",
       "</style>\n",
       "<table border=\"1\" class=\"dataframe\">\n",
       "  <thead>\n",
       "    <tr style=\"text-align: right;\">\n",
       "      <th></th>\n",
       "      <th>Item Fat Content</th>\n",
       "      <th>Item Identifier</th>\n",
       "      <th>Item Type</th>\n",
       "      <th>Outlet Establishment Year</th>\n",
       "      <th>Outlet Identifier</th>\n",
       "      <th>Outlet Location Type</th>\n",
       "      <th>Outlet Size</th>\n",
       "      <th>Outlet Type</th>\n",
       "      <th>Item Visibility</th>\n",
       "      <th>Item Weight</th>\n",
       "      <th>Sales</th>\n",
       "      <th>Rating</th>\n",
       "    </tr>\n",
       "  </thead>\n",
       "  <tbody>\n",
       "    <tr>\n",
       "      <th>0</th>\n",
       "      <td>Regular</td>\n",
       "      <td>FDX32</td>\n",
       "      <td>Fruits and Vegetables</td>\n",
       "      <td>2012</td>\n",
       "      <td>OUT049</td>\n",
       "      <td>Tier 1</td>\n",
       "      <td>Medium</td>\n",
       "      <td>Supermarket Type1</td>\n",
       "      <td>0.100014</td>\n",
       "      <td>15.1</td>\n",
       "      <td>145.48</td>\n",
       "      <td>5.0</td>\n",
       "    </tr>\n",
       "    <tr>\n",
       "      <th>1</th>\n",
       "      <td>Low Fat</td>\n",
       "      <td>NCB42</td>\n",
       "      <td>Health and Hygiene</td>\n",
       "      <td>2022</td>\n",
       "      <td>OUT018</td>\n",
       "      <td>Tier 3</td>\n",
       "      <td>Medium</td>\n",
       "      <td>Supermarket Type2</td>\n",
       "      <td>0.008596</td>\n",
       "      <td>11.8</td>\n",
       "      <td>115.35</td>\n",
       "      <td>5.0</td>\n",
       "    </tr>\n",
       "  </tbody>\n",
       "</table>\n",
       "</div>"
      ],
      "text/plain": [
       "  Item Fat Content Item Identifier              Item Type  \\\n",
       "0          Regular           FDX32  Fruits and Vegetables   \n",
       "1          Low Fat           NCB42     Health and Hygiene   \n",
       "\n",
       "   Outlet Establishment Year Outlet Identifier Outlet Location Type  \\\n",
       "0                       2012            OUT049               Tier 1   \n",
       "1                       2022            OUT018               Tier 3   \n",
       "\n",
       "  Outlet Size        Outlet Type  Item Visibility  Item Weight   Sales  Rating  \n",
       "0      Medium  Supermarket Type1         0.100014         15.1  145.48     5.0  \n",
       "1      Medium  Supermarket Type2         0.008596         11.8  115.35     5.0  "
      ]
     },
     "execution_count": 14,
     "metadata": {},
     "output_type": "execute_result"
    }
   ],
   "source": [
    "df.head(2)"
   ]
  },
  {
   "cell_type": "markdown",
   "id": "19441df7-2109-46e7-a727-19ef79a8bb62",
   "metadata": {},
   "source": [
    "### **1. Total Sales KPI**"
   ]
  },
  {
   "cell_type": "code",
   "execution_count": 32,
   "id": "2733b8aa-a44f-4c3f-ac1a-8a8227a65f7d",
   "metadata": {},
   "outputs": [
    {
     "data": {
      "text/plain": [
       "1201681.72"
      ]
     },
     "execution_count": 32,
     "metadata": {},
     "output_type": "execute_result"
    }
   ],
   "source": [
    "total_sales = df['Sales'].sum()\n",
    "total_sales"
   ]
  },
  {
   "cell_type": "markdown",
   "id": "65c42d24-b7f8-41b3-b8b8-888651e58c67",
   "metadata": {},
   "source": [
    "### **2. Average Sales KPI**"
   ]
  },
  {
   "cell_type": "code",
   "execution_count": 26,
   "id": "a824a9cd-a47f-42a3-979c-b5dcc46e1340",
   "metadata": {},
   "outputs": [
    {
     "data": {
      "text/plain": [
       "140.99281004341194"
      ]
     },
     "execution_count": 26,
     "metadata": {},
     "output_type": "execute_result"
    }
   ],
   "source": [
    "Average_sales = df['Sales'].mean()\n",
    "Average_sales"
   ]
  },
  {
   "cell_type": "markdown",
   "id": "84aa1475-494e-4c4a-afb0-a325e223a4bc",
   "metadata": {},
   "source": [
    "### **3. No. Of Items KPI**"
   ]
  },
  {
   "cell_type": "code",
   "execution_count": 37,
   "id": "9cdb892f-edf3-4a6d-ad27-5f182ab78edf",
   "metadata": {},
   "outputs": [
    {
     "data": {
      "text/plain": [
       "16"
      ]
     },
     "execution_count": 37,
     "metadata": {},
     "output_type": "execute_result"
    }
   ],
   "source": [
    "no_of_items = df['Item Type'].nunique()\n",
    "no_of_items"
   ]
  },
  {
   "cell_type": "markdown",
   "id": "c580d6ae-b808-462e-808a-54bf0fee3fa0",
   "metadata": {},
   "source": [
    "### **4. Average Rating KPI**"
   ]
  },
  {
   "cell_type": "code",
   "execution_count": 34,
   "id": "66bebeb9-c900-410f-a5c0-24faa321ba1d",
   "metadata": {},
   "outputs": [
    {
     "data": {
      "text/plain": [
       "3.965857092573038"
      ]
     },
     "execution_count": 34,
     "metadata": {},
     "output_type": "execute_result"
    }
   ],
   "source": [
    "average_rating = df['Rating'].mean()\n",
    "average_rating"
   ]
  },
  {
   "cell_type": "markdown",
   "id": "5bbabb34-1108-4e41-b00d-d4185ba1e8af",
   "metadata": {},
   "source": [
    "### 1. Identify the top 5 Selling Item_Type categories by total sales."
   ]
  },
  {
   "cell_type": "code",
   "execution_count": 16,
   "id": "7f1ebc0c-ef64-46b7-b2e6-fac153c0694e",
   "metadata": {},
   "outputs": [
    {
     "data": {
      "text/plain": [
       "Item Type\n",
       "Fruits and Vegetables    178124.21\n",
       "Snack Foods              175434.11\n",
       "Household                135976.81\n",
       "Frozen Foods             118559.25\n",
       "Dairy                    101276.49\n",
       "Name: Sales, dtype: float64"
      ]
     },
     "execution_count": 16,
     "metadata": {},
     "output_type": "execute_result"
    }
   ],
   "source": [
    "top_5_selling_items = (df.groupby('Item Type')['Sales'].sum().sort_values(ascending=False).head(5))\n",
    "top_5_selling_items"
   ]
  },
  {
   "cell_type": "code",
   "execution_count": 17,
   "id": "78a1168e-c907-4331-8f73-1f97b2266bc2",
   "metadata": {},
   "outputs": [
    {
     "data": {
      "image/png": "[encoded data removed]",
      "text/plain": [
       "<Figure size 800x500 with 1 Axes>"
      ]
     },
     "metadata": {},
     "output_type": "display_data"
    }
   ],
   "source": [
    "plt.figure(figsize = (8,5))\n",
    "sns.barplot(x=top_5_selling_items.values,y=top_5_selling_items.index,palette='Blues_d')\n",
    "#sns.barplot(x=top_5_selling_items.index,y=top_5_selling_items.values,palette='Blues_d')\n",
    "plt.title('Top 5 Selling Items Categories')\n",
    "plt.xlabel('Total Sales')\n",
    "plt.ylabel('Item Category')\n",
    "plt.tight_layout()\n",
    "plt.show()"
   ]
  },
  {
   "cell_type": "markdown",
   "id": "f562a917-28db-4c28-a66e-2012880655b5",
   "metadata": {},
   "source": [
    "**1. The Most profitable Item Category is \"Fruits and Vegetables\"**\n",
    "\n",
    "**2.Based on historical data, Fruits & Vegetables and Snack Foods generate the highest revenue and should be prioritized for inventory planning and targeted promotions across all outlet types**"
   ]
  },
  {
   "cell_type": "markdown",
   "id": "74572dab-a47d-445e-98ba-4ff8f8700c18",
   "metadata": {},
   "source": [
    "### 2.High-demand item types per outlet type"
   ]
  },
  {
   "cell_type": "code",
   "execution_count": 18,
   "id": "23878290-9da7-47e0-8246-5b43f6c0e7fd",
   "metadata": {},
   "outputs": [
    {
     "data": {
      "text/html": [
       "<div>\n",
       "<style scoped>\n",
       "    .dataframe tbody tr th:only-of-type {\n",
       "        vertical-align: middle;\n",
       "    }\n",
       "\n",
       "    .dataframe tbody tr th {\n",
       "        vertical-align: top;\n",
       "    }\n",
       "\n",
       "    .dataframe thead th {\n",
       "        text-align: right;\n",
       "    }\n",
       "</style>\n",
       "<table border=\"1\" class=\"dataframe\">\n",
       "  <thead>\n",
       "    <tr style=\"text-align: right;\">\n",
       "      <th></th>\n",
       "      <th>Item Type</th>\n",
       "      <th>Outlet Type</th>\n",
       "      <th>Sales</th>\n",
       "    </tr>\n",
       "  </thead>\n",
       "  <tbody>\n",
       "    <tr>\n",
       "      <th>0</th>\n",
       "      <td>Baking Goods</td>\n",
       "      <td>Grocery Store</td>\n",
       "      <td>10747.20</td>\n",
       "    </tr>\n",
       "    <tr>\n",
       "      <th>1</th>\n",
       "      <td>Baking Goods</td>\n",
       "      <td>Supermarket Type1</td>\n",
       "      <td>53665.29</td>\n",
       "    </tr>\n",
       "  </tbody>\n",
       "</table>\n",
       "</div>"
      ],
      "text/plain": [
       "      Item Type        Outlet Type     Sales\n",
       "0  Baking Goods      Grocery Store  10747.20\n",
       "1  Baking Goods  Supermarket Type1  53665.29"
      ]
     },
     "execution_count": 18,
     "metadata": {},
     "output_type": "execute_result"
    }
   ],
   "source": [
    "Item_Outlet_sales = (df.groupby(['Item Type','Outlet Type'])['Sales'].sum().reset_index())\n",
    "Item_Outlet_sales.head(2)"
   ]
  },
  {
   "cell_type": "code",
   "execution_count": 19,
   "id": "ff73bc73-405e-4ee1-853c-5657e787c5b4",
   "metadata": {},
   "outputs": [],
   "source": [
    "p_table = Item_Outlet_sales.pivot(index ='Item Type', columns = 'Outlet Type', values= 'Sales')"
   ]
  },
  {
   "cell_type": "code",
   "execution_count": 20,
   "id": "4fa4d767-6b50-4772-9f97-d26b524a4faf",
   "metadata": {},
   "outputs": [
    {
     "data": {
      "image/png": "[encoded data removed]",
      "text/plain": [
       "<Figure size 800x600 with 2 Axes>"
      ]
     },
     "metadata": {},
     "output_type": "display_data"
    }
   ],
   "source": [
    "plt.figure(figsize = (8,6))\n",
    "\n",
    "sns.heatmap(p_table, annot=True, fmt = \".0f\",cmap=\"YlGnBu\",linewidth = 0.5)\n",
    "plt.title('Sales by Item Category across outlet Types')\n",
    "plt.xlabel(\"Outlet Type\")\n",
    "plt.ylabel(\"Item Category\")\n",
    "plt.tight_layout()\n",
    "plt.show()"
   ]
  },
  {
   "cell_type": "markdown",
   "id": "f3b46c36-c803-4109-9638-410f7694caaa",
   "metadata": {},
   "source": [
    "## Cross‑Pattern Observations/ High-demand item types per outlet type\n",
    "\n",
    "**Supermarket Type 1** dominates almost every category – it’s your primary revenue engine.\n",
    "\n",
    "**Grocery Stores punch above their size** in essentials (Fruits & Veg, Snacks, Household) but fall off for premium or freezer‑dependent items.\n",
    "\n",
    "**Supermarket Types 2 & 3 trail T1**, yet still account for meaningful sales in core perishables and snack lines.\n",
    "\n",
    "**Colour gradient confirms numeric ranking**: darkest blues correspond to the three largest figures in the entire matrix (Fruits & Veg + Snack Foods + Household in T1)."
   ]
  },
  {
   "cell_type": "markdown",
   "id": "b5c7730b-41a0-48a7-b50b-1e94b892c856",
   "metadata": {},
   "source": [
    "## Which outlet types need restocking priority \n",
    " **Fruits & Vegetables** - Top-selling category across all outlets; restock frequently and promote aggressively.\n",
    " \n",
    " **Snack Foods** - Second highest in sales and profit; restock often and run frequent combo or discount offers.\n",
    " \n",
    " **Household Items** -  Consistent demand across stores; plan regular restocking with seasonal promotions.\n",
    " \n",
    " **Frozen Foods & Dairy** - Perform well in Supermarket Type 1; restock only where cold storage is available and demand supports it."
   ]
  },
  {
   "cell_type": "markdown",
   "id": "261b5254-3d93-45ed-a19a-9acc40ae682f",
   "metadata": {},
   "source": [
    "## **Strategic Actions You Could Draw**                                  \n",
    "\n",
    "1. **Supermarket Type 1 (Outlet Type)** -  Fruits & Veg, Snack Foods, Household, Frozen, Dairy **(High - demand Categories)** - Maintain highest inventory levels & Cross‑promote Frozen with Snacks **(Suggested Actions)**\n",
    "   \n",
    "2. **Grocery Store (Outlet Type)** -  Fruits & Veg, Snack Foods, Household **(High - demand Categories)** - Focus on fresh produce & impulse snacks & Limited freezer space ⇒ Frozen stocks cautiously **(Suggested Actions)**\n",
    " \n",
    "3. **Supermarket Type 2 & 3 (Outlet Type)** -  Fruits & Veg, Snacks (moderate), Household (moderate) **(High - demand Categories)** - Rebalance shelf space to mirror T1 success & Pilot promotions for Dairy & Frozen to lift sales **(Suggested Actions)**\n",
    "\n"
   ]
  },
  {
   "cell_type": "code",
   "execution_count": null,
   "id": "5242d98c-0227-45f8-850c-23dcb6752a93",
   "metadata": {},
   "outputs": [],
   "source": []
  }
 ],
 "metadata": {
  "kernelspec": {
   "display_name": "Python [conda env:base] *",
   "language": "python",
   "name": "conda-base-py"
  },
  "language_info": {
   "codemirror_mode": {
    "name": "ipython",
    "version": 3
   },
   "file_extension": ".py",
   "mimetype": "text/x-python",
   "name": "python",
   "nbconvert_exporter": "python",
   "pygments_lexer": "ipython3",
   "version": "3.12.7"
  }
 },
 "nbformat": 4,
 "nbformat_minor": 5
}
